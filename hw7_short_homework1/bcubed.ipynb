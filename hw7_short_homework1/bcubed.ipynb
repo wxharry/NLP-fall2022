{
 "cells": [
  {
   "cell_type": "code",
   "execution_count": 10,
   "id": "32aec77c",
   "metadata": {},
   "outputs": [],
   "source": [
    "class Bcubed:\n",
    "    def __init__(self, system, answer):\n",
    "        self.system = system\n",
    "        self.answer = answer\n",
    "        self.sys_cluster = self.generate_tuple(system)\n",
    "        self.ans_cluster = self.generate_tuple(answer)\n",
    "        self._precision = None\n",
    "        self._recall = None\n",
    "        \n",
    "    def generate_tuple(self, cluster):\n",
    "        c = {}\n",
    "        for vals in cluster.values():\n",
    "            for val in vals:\n",
    "                c[val] = vals\n",
    "        return c\n",
    "    \n",
    "    def precision(self):\n",
    "        pre_sum = 0\n",
    "        for k in self.sys_cluster:\n",
    "            correct = len(self.sys_cluster[k] - (self.sys_cluster[k] - self.ans_cluster[k]))\n",
    "            all_ = len(self.sys_cluster[k])\n",
    "            pre_sum += correct / all_\n",
    "        return pre_sum / len(self.sys_cluster)\n",
    "\n",
    "    def recall(self):\n",
    "        pre_sum = 0\n",
    "        for k in self.sys_cluster:\n",
    "            correct = len(self.ans_cluster[k] - (self.ans_cluster[k] - self.sys_cluster[k]))\n",
    "            all_ = len(self.ans_cluster[k])\n",
    "            pre_sum += correct / all_\n",
    "        return pre_sum / len(self.ans_cluster)\n",
    "\n",
    "    def fscore(self):\n",
    "        if not self._recall:\n",
    "            self._recall = self.recall()\n",
    "        if not self._precision:\n",
    "            self._precision = self.precision()\n",
    "        return 2/((1/self._recall) + (1/self._precision))"
   ]
  },
  {
   "cell_type": "code",
   "execution_count": 11,
   "id": "a7fc580b",
   "metadata": {},
   "outputs": [
    {
     "name": "stdout",
     "output_type": "stream",
     "text": [
      "precision = 0.6428571428571429\n",
      "recall = 0.8333333333333333\n",
      "fscore = 0.7258064516129032\n"
     ]
    }
   ],
   "source": [
    "system = {\n",
    "    \"1\": set([\"A1\", \"A2\", \"A3\", \"A4\", \"A5\", \"B1\", \"B2\"]),\n",
    "    \"2\": set([\"B3\"]),\n",
    "}\n",
    "\n",
    "answer = {\n",
    "    \"1\": set([\"A1\", \"A2\", \"A3\", \"A4\", \"A5\"]),\n",
    "    \"2\": set([\"B1\", \"B2\", \"B3\"]),\n",
    "}\n",
    "\n",
    "bcubed = Bcubed(system, answer)\n",
    "precision = bcubed.precision()\n",
    "recall = bcubed.recall()\n",
    "fscore = bcubed.fscore()\n",
    "print(f\"precision = {precision}\")\n",
    "print(f\"recall = {recall}\")\n",
    "print(f\"fscore = {fscore}\")\n"
   ]
  },
  {
   "cell_type": "code",
   "execution_count": 13,
   "id": "de24ee3f",
   "metadata": {},
   "outputs": [
    {
     "name": "stdout",
     "output_type": "stream",
     "text": [
      "precision = 0.85\n",
      "recall = 0.5\n",
      "fscore = 0.6296296296296295\n"
     ]
    }
   ],
   "source": [
    "system = {\n",
    "    \"1\": set([\"A1\", \"A2\", \"A3\", \"B2\"]),\n",
    "    \"2\": set([\"A4\", \"A5\", \"A6\"]),\n",
    "    \"3\": set([\"B1\"]),\n",
    "    \"4\": set([\"C1\"]),\n",
    "    \"5\": set([\"C2\"]),\n",
    "}\n",
    "\n",
    "answer = {\n",
    "    \"1\": set([\"A1\", \"A2\", \"A3\", \"A4\", \"A5\", \"A6\"]),\n",
    "    \"2\": set([\"B1\", \"B2\"]),\n",
    "    \"3\": set([\"C1\", \"C2\"]),\n",
    "}\n",
    "\n",
    "bcubed = Bcubed(system, answer)\n",
    "precision = bcubed.precision()\n",
    "recall = bcubed.recall()\n",
    "fscore = bcubed.fscore()\n",
    "print(f\"precision = {precision}\")\n",
    "print(f\"recall = {recall}\")\n",
    "print(f\"fscore = {fscore}\")"
   ]
  },
  {
   "cell_type": "code",
   "execution_count": null,
   "id": "11234d5e",
   "metadata": {},
   "outputs": [],
   "source": []
  }
 ],
 "metadata": {
  "kernelspec": {
   "display_name": "Python 3 (ipykernel)",
   "language": "python",
   "name": "python3"
  },
  "language_info": {
   "codemirror_mode": {
    "name": "ipython",
    "version": 3
   },
   "file_extension": ".py",
   "mimetype": "text/x-python",
   "name": "python",
   "nbconvert_exporter": "python",
   "pygments_lexer": "ipython3",
   "version": "3.10.8"
  },
  "vscode": {
   "interpreter": {
    "hash": "789b89e08a22f0b3c36e425d4920f3558eb2e5d20f6ce2f3582e95afe246c501"
   }
  }
 },
 "nbformat": 4,
 "nbformat_minor": 5
}
